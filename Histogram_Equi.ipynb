{
 "cells": [
  {
   "cell_type": "code",
   "execution_count": 1,
   "id": "fcb0ab8f",
   "metadata": {},
   "outputs": [],
   "source": [
    "import cv2 as cv\n",
    "import numpy as np\n",
    "from matplotlib import pyplot as plt\n",
    "import os\n",
    "from tqdm import tqdm"
   ]
  },
  {
   "cell_type": "code",
   "execution_count": 2,
   "id": "502bbdea",
   "metadata": {},
   "outputs": [
    {
     "name": "stdout",
     "output_type": "stream",
     "text": [
      "Directory Created!\n"
     ]
    }
   ],
   "source": [
    "folder_path = \"Datasets\"        ## Change this accordingly\n",
    "folder_path = folder_path + \"/ocular-disease-recognition-odir5k\"\n",
    "grey_path = folder_path + \"/preprocessed_histeq_images\"\n",
    "try: \n",
    "    os.mkdir(grey_path)\n",
    "    print(\"Directory Created!\") \n",
    "except OSError as error: \n",
    "    print(\"Directory Existed Before!\") \n",
    "\n",
    "normal_path = folder_path + \"/preprocessed_images\"\n"
   ]
  },
  {
   "cell_type": "code",
   "execution_count": 3,
   "id": "d6fe231c",
   "metadata": {},
   "outputs": [],
   "source": [
    "def hist_eq(normal_path, grey_path):\n",
    "    img_list = os.listdir(normal_path)\n",
    "    for img_name in tqdm(img_list):\n",
    "        path = normal_path + \"/\" + img_name\n",
    "        img = cv.imread(path)\n",
    "        img = cv.cvtColor(img, cv.COLOR_BGR2GRAY)\n",
    "        equ = cv.equalizeHist(img)\n",
    "        path = grey_path + \"/\" + img_name\n",
    "        cv.imwrite(path, equ)\n"
   ]
  },
  {
   "cell_type": "code",
   "execution_count": 4,
   "id": "2ce867b0",
   "metadata": {},
   "outputs": [
    {
     "name": "stderr",
     "output_type": "stream",
     "text": [
      "100%|██████████| 6392/6392 [00:37<00:00, 169.81it/s]\n"
     ]
    }
   ],
   "source": [
    "hist_eq(normal_path, grey_path)"
   ]
  },
  {
   "cell_type": "code",
   "execution_count": null,
   "id": "92a922cc",
   "metadata": {},
   "outputs": [],
   "source": [
    "ROOT_DIR = './ocular/ocular-disease-recognition-odir5k'"
   ]
  },
  {
   "cell_type": "code",
   "execution_count": null,
   "id": "9821c925",
   "metadata": {},
   "outputs": [],
   "source": [
    "SRC_PATH = ROOT_DIR + '/preprocessed_histeq_images'\n",
    "DEST_PATH = ROOT_DIR + '/inception_histeq_preprocessed_images'\n",
    "\n",
    "os.makedirs(DEST_PATH, exist_ok = True)\n",
    "\n",
    "files = [f for f in os.listdir(SRC_PATH) if os.path.isfile(os.path.join(SRC_PATH, f))]\n",
    "for file in tqdm(files):\n",
    "    ImageResizer(image_width = 299, quality = 100, source_folder = SRC_PATH, destination_folder = DEST_PATH, file_name = file, keep_aspect_ratio = False).run()\n",
    "\n",
    "files = [f for f in os.listdir(SRC_PATH) if not(os.path.isfile(os.path.join(DEST_PATH, f)))]\n",
    "print(len(files))\n",
    "\n",
    "for file in tqdm(files):\n",
    "    ImageResizer(image_width = 299, quality = 100, source_folder = SRC_PATH, destination_folder = DEST_PATH, file_name = file, keep_aspect_ratio = False).run()"
   ]
  },
  {
   "cell_type": "code",
   "execution_count": null,
   "id": "011b326a",
   "metadata": {},
   "outputs": [],
   "source": [
    "SRC_PATH = ROOT_DIR + '/preprocessed_histeq_images'\n",
    "DEST_PATH = ROOT_DIR + '/inception_histeq_preprocessed_images'\n",
    "\n",
    "os.makedirs(DEST_PATH, exist_ok = True)\n",
    "\n",
    "files = [f for f in os.listdir(SRC_PATH) if os.path.isfile(os.path.join(SRC_PATH, f))]\n",
    "for file in tqdm(files):\n",
    "    ImageResizer(image_width = 299, quality = 100, source_folder = SRC_PATH, destination_folder = DEST_PATH, file_name = file, keep_aspect_ratio = False).run()\n",
    "\n",
    "files = [f for f in os.listdir(SRC_PATH) if not(os.path.isfile(os.path.join(DEST_PATH, f)))]\n",
    "print(len(files))\n",
    "\n",
    "for file in tqdm(files):\n",
    "    ImageResizer(image_width = 299, quality = 100, source_folder = SRC_PATH, destination_folder = DEST_PATH, file_name = file, keep_aspect_ratio = False).run()"
   ]
  }
 ],
 "metadata": {
  "kernelspec": {
   "display_name": "Python 3 (ipykernel)",
   "language": "python",
   "name": "python3"
  },
  "language_info": {
   "codemirror_mode": {
    "name": "ipython",
    "version": 3
   },
   "file_extension": ".py",
   "mimetype": "text/x-python",
   "name": "python",
   "nbconvert_exporter": "python",
   "pygments_lexer": "ipython3",
   "version": "3.9.16"
  },
  "vscode": {
   "interpreter": {
    "hash": "c58e9361bde7ca617934da376e83056db506761bdc9593ca2087fabac973f609"
   }
  }
 },
 "nbformat": 4,
 "nbformat_minor": 5
}
