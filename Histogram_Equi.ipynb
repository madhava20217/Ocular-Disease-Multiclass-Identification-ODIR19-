{
 "cells": [
  {
   "cell_type": "code",
   "execution_count": 13,
   "id": "fcb0ab8f",
   "metadata": {},
   "outputs": [],
   "source": [
    "import cv2 as cv\n",
    "import numpy as np\n",
    "from matplotlib import pyplot as plt\n",
    "import os\n",
    "from tqdm import tqdm\n",
    "from PIL import Image"
   ]
  },
  {
   "cell_type": "code",
   "execution_count": 14,
   "id": "502bbdea",
   "metadata": {},
   "outputs": [
    {
     "name": "stdout",
     "output_type": "stream",
     "text": [
      "Directory Created!\n"
     ]
    }
   ],
   "source": [
    "folder_path = \"Datasets\"        ## Change this accordingly\n",
    "folder_path = folder_path + \"/ocular-disease-recognition-odir5k\"\n",
    "grey_path = folder_path + \"/preprocessed_histeq_images\"\n",
    "try: \n",
    "    os.mkdir(grey_path)\n",
    "    print(\"Directory Created!\") \n",
    "except OSError as error: \n",
    "    print(\"Directory Existed Before!\") \n",
    "\n",
    "normal_path = folder_path + \"/preprocessed_images\"\n"
   ]
  },
  {
   "cell_type": "code",
   "execution_count": 15,
   "id": "d6fe231c",
   "metadata": {},
   "outputs": [],
   "source": [
    "def hist_eq(normal_path, grey_path):\n",
    "    img_list = os.listdir(normal_path)\n",
    "    for img_name in tqdm(img_list):\n",
    "        path = normal_path + \"/\" + img_name\n",
    "        img = cv.imread(path)\n",
    "        img = cv.cvtColor(img, cv.COLOR_BGR2GRAY)\n",
    "        equ = cv.equalizeHist(img)\n",
    "        path = grey_path + \"/\" + img_name\n",
    "        cv.imwrite(path, equ)\n"
   ]
  },
  {
   "cell_type": "code",
   "execution_count": 16,
   "id": "2ce867b0",
   "metadata": {},
   "outputs": [
    {
     "name": "stderr",
     "output_type": "stream",
     "text": [
      "100%|██████████| 6392/6392 [00:33<00:00, 192.61it/s]\n"
     ]
    }
   ],
   "source": [
    "hist_eq(normal_path, grey_path)"
   ]
  },
  {
   "cell_type": "code",
   "execution_count": 17,
   "id": "92a922cc",
   "metadata": {},
   "outputs": [],
   "source": [
    "ROOT_DIR = 'Datasets/ocular-disease-recognition-odir5k'"
   ]
  },
  {
   "cell_type": "code",
   "execution_count": 18,
   "id": "c4843c9a",
   "metadata": {},
   "outputs": [],
   "source": [
    "class ImageResizer:\n",
    "    \n",
    "    def __init__(self, image_width, quality, source_folder, destination_folder, file_name, keep_aspect_ratio):\n",
    "        self.image_width = image_width\n",
    "        self.quality = quality\n",
    "        self.source_folder = source_folder\n",
    "        self.destination_folder= destination_folder\n",
    "        self.file_name = file_name\n",
    "        self.keep_aspect_ration = keep_aspect_ratio\n",
    "\n",
    "    def run(self):\n",
    "\n",
    "        # We load the original file, we resize it to a smaller width and correspondent height and\n",
    "        # also mirror the image when we find a right eye image so they are all left eyes\n",
    "\n",
    "        file = os.path.join(self.source_folder, self.file_name)\n",
    "        img = Image.open(file)\n",
    "\n",
    "        if self.keep_aspect_ration:\n",
    "            width_percentage = (self.image_width / float(img.size[0]))\n",
    "            height_size = int((float(img.size[1]) * float(width_percentage)))\n",
    "            img = img.resize((self.image_width, height_size), Image.ANTIALIAS)\n",
    "        else:\n",
    "            img = img.resize((self.image_width, self.image_width), Image.ANTIALIAS)\n",
    "        if \"right\" in self.file_name:\n",
    "            img.transpose(Image.Transpose.FLIP_LEFT_RIGHT).save(os.path.join(self.destination_folder, self.file_name), optimize=True, quality=self.quality)\n",
    "        else:\n",
    "            img.save(os.path.join(self.destination_folder, self.file_name), optimize=True, quality=self.quality)"
   ]
  },
  {
   "cell_type": "code",
   "execution_count": 19,
   "id": "9821c925",
   "metadata": {},
   "outputs": [
    {
     "name": "stderr",
     "output_type": "stream",
     "text": [
      "  0%|          | 0/6392 [00:00<?, ?it/s]C:\\Users\\krish\\AppData\\Local\\Temp\\ipykernel_14284\\1977627382.py:24: DeprecationWarning: ANTIALIAS is deprecated and will be removed in Pillow 10 (2023-07-01). Use Resampling.LANCZOS instead.\n",
      "  img = img.resize((self.image_width, self.image_width), Image.ANTIALIAS)\n",
      "100%|██████████| 6392/6392 [00:30<00:00, 208.71it/s]\n"
     ]
    },
    {
     "name": "stdout",
     "output_type": "stream",
     "text": [
      "0\n"
     ]
    },
    {
     "name": "stderr",
     "output_type": "stream",
     "text": [
      "0it [00:00, ?it/s]\n"
     ]
    }
   ],
   "source": [
    "SRC_PATH = ROOT_DIR + '/preprocessed_histeq_images'\n",
    "DEST_PATH = ROOT_DIR + '/inception_histeq_preprocessed_images'\n",
    "\n",
    "os.makedirs(DEST_PATH, exist_ok = True)\n",
    "\n",
    "files = [f for f in os.listdir(SRC_PATH) if os.path.isfile(os.path.join(SRC_PATH, f))]\n",
    "for file in tqdm(files):\n",
    "    ImageResizer(image_width = 299, quality = 100, source_folder = SRC_PATH, destination_folder = DEST_PATH, file_name = file, keep_aspect_ratio = False).run()\n",
    "\n",
    "files = [f for f in os.listdir(SRC_PATH) if not(os.path.isfile(os.path.join(DEST_PATH, f)))]\n",
    "print(len(files))\n",
    "\n",
    "for file in tqdm(files):\n",
    "    ImageResizer(image_width = 299, quality = 100, source_folder = SRC_PATH, destination_folder = DEST_PATH, file_name = file, keep_aspect_ratio = False).run()"
   ]
  },
  {
   "cell_type": "code",
   "execution_count": 20,
   "id": "011b326a",
   "metadata": {},
   "outputs": [
    {
     "name": "stderr",
     "output_type": "stream",
     "text": [
      "  0%|          | 0/6392 [00:00<?, ?it/s]C:\\Users\\krish\\AppData\\Local\\Temp\\ipykernel_14284\\1977627382.py:24: DeprecationWarning: ANTIALIAS is deprecated and will be removed in Pillow 10 (2023-07-01). Use Resampling.LANCZOS instead.\n",
      "  img = img.resize((self.image_width, self.image_width), Image.ANTIALIAS)\n",
      "100%|██████████| 6392/6392 [00:52<00:00, 121.19it/s]\n"
     ]
    },
    {
     "name": "stdout",
     "output_type": "stream",
     "text": [
      "0\n"
     ]
    },
    {
     "name": "stderr",
     "output_type": "stream",
     "text": [
      "0it [00:00, ?it/s]\n"
     ]
    }
   ],
   "source": [
    "SRC_PATH = ROOT_DIR + '/preprocessed_images'\n",
    "DEST_PATH = ROOT_DIR + '/inception_preprocessed_images'\n",
    "\n",
    "os.makedirs(DEST_PATH, exist_ok = True)\n",
    "\n",
    "files = [f for f in os.listdir(SRC_PATH) if os.path.isfile(os.path.join(SRC_PATH, f))]\n",
    "for file in tqdm(files):\n",
    "    ImageResizer(image_width = 299, quality = 100, source_folder = SRC_PATH, destination_folder = DEST_PATH, file_name = file, keep_aspect_ratio = False).run()\n",
    "\n",
    "files = [f for f in os.listdir(SRC_PATH) if not(os.path.isfile(os.path.join(DEST_PATH, f)))]\n",
    "print(len(files))\n",
    "\n",
    "for file in tqdm(files):\n",
    "    ImageResizer(image_width = 299, quality = 100, source_folder = SRC_PATH, destination_folder = DEST_PATH, file_name = file, keep_aspect_ratio = False).run()"
   ]
  }
 ],
 "metadata": {
  "kernelspec": {
   "display_name": "Python 3 (ipykernel)",
   "language": "python",
   "name": "python3"
  },
  "language_info": {
   "codemirror_mode": {
    "name": "ipython",
    "version": 3
   },
   "file_extension": ".py",
   "mimetype": "text/x-python",
   "name": "python",
   "nbconvert_exporter": "python",
   "pygments_lexer": "ipython3",
   "version": "3.10.9"
  },
  "vscode": {
   "interpreter": {
    "hash": "c58e9361bde7ca617934da376e83056db506761bdc9593ca2087fabac973f609"
   }
  }
 },
 "nbformat": 4,
 "nbformat_minor": 5
}
