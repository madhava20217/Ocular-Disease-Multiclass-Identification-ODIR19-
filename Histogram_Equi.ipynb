{
 "cells": [
  {
   "cell_type": "code",
   "execution_count": 1,
   "id": "fcb0ab8f",
   "metadata": {},
   "outputs": [],
   "source": [
    "import cv2 as cv\n",
    "import numpy as np\n",
    "from matplotlib import pyplot as plt\n",
    "import os\n",
    "from tqdm import tqdm"
   ]
  },
  {
   "cell_type": "code",
   "execution_count": 2,
   "id": "502bbdea",
   "metadata": {},
   "outputs": [
    {
     "name": "stdout",
     "output_type": "stream",
     "text": [
      "Directory Created!\n"
     ]
    }
   ],
   "source": [
    "folder_path = \"Datasets\"        ## Change this accordingly\n",
    "folder_path = folder_path + \"/ocular-disease-recognition-odir5k\"\n",
    "grey_path = folder_path + \"/preprocessed_histeq_images\"\n",
    "try: \n",
    "    os.mkdir(grey_path)\n",
    "    print(\"Directory Created!\") \n",
    "except OSError as error: \n",
    "    print(\"Directory Existed Before!\") \n",
    "\n",
    "normal_path = folder_path + \"/preprocessed_images\"\n"
   ]
  },
  {
   "cell_type": "code",
   "execution_count": 3,
   "id": "d6fe231c",
   "metadata": {},
   "outputs": [],
   "source": [
    "def hist_eq(normal_path, grey_path):\n",
    "    img_list = os.listdir(normal_path)\n",
    "    for img_name in tqdm(img_list):\n",
    "        path = normal_path + \"/\" + img_name\n",
    "        img = cv.imread(path)\n",
    "        img = cv.cvtColor(img, cv.COLOR_BGR2GRAY)\n",
    "        equ = cv.equalizeHist(img)\n",
    "        path = grey_path + \"/\" + img_name\n",
    "        cv.imwrite(path, equ)\n"
   ]
  },
  {
   "cell_type": "code",
   "execution_count": 4,
   "id": "2ce867b0",
   "metadata": {},
   "outputs": [
    {
     "name": "stderr",
     "output_type": "stream",
     "text": [
      "100%|██████████| 6392/6392 [00:37<00:00, 169.81it/s]\n"
     ]
    }
   ],
   "source": [
    "hist_eq(normal_path, grey_path)"
   ]
  }
 ],
 "metadata": {
  "kernelspec": {
   "display_name": "Python 3.10.9 ('ml')",
   "language": "python",
   "name": "python3"
  },
  "language_info": {
   "codemirror_mode": {
    "name": "ipython",
    "version": 3
   },
   "file_extension": ".py",
   "mimetype": "text/x-python",
   "name": "python",
   "nbconvert_exporter": "python",
   "pygments_lexer": "ipython3",
   "version": "3.10.9"
  },
  "vscode": {
   "interpreter": {
    "hash": "c58e9361bde7ca617934da376e83056db506761bdc9593ca2087fabac973f609"
   }
  }
 },
 "nbformat": 4,
 "nbformat_minor": 5
}
