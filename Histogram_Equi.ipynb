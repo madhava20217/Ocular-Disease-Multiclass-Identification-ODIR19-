{
 "cells": [
  {
   "cell_type": "code",
   "execution_count": 95,
   "id": "fcb0ab8f",
   "metadata": {},
   "outputs": [],
   "source": [
    "import cv2 as cv\n",
    "import numpy as np\n",
    "from matplotlib import pyplot as plt\n",
    "import os"
   ]
  },
  {
   "cell_type": "code",
   "execution_count": 100,
   "id": "261c562c",
   "metadata": {},
   "outputs": [],
   "source": [
    "# path = \"/home/abhinav/project/ocular/ocular-disease-recognition-odir5k/preprocessed_images/2825_left.jpg\"\n",
    "# img = cv.imread(path)\n",
    "# img = cv.cvtColor(img, cv.COLOR_BGR2GRAY)"
   ]
  },
  {
   "cell_type": "code",
   "execution_count": 101,
   "id": "3d2af8a9",
   "metadata": {},
   "outputs": [],
   "source": [
    "# plt.imshow(img, cmap = \"gray\")\n",
    "# plt.show()"
   ]
  },
  {
   "cell_type": "code",
   "execution_count": 102,
   "id": "b3e46fe7",
   "metadata": {},
   "outputs": [],
   "source": [
    "# hist,bins = np.histogram(img.flatten(),256,[0,256])\n",
    "# cdf = hist.cumsum()\n",
    "# cdf_normalized = cdf * float(hist.max()) / cdf.max()\n",
    "# plt.plot(cdf_normalized, color = 'b')\n",
    "# plt.hist(img.flatten(),256,[0,256], color = 'r')\n",
    "# plt.xlim([0,256])\n",
    "# plt.legend(('cdf','histogram'), loc = 'upper left')\n",
    "# plt.show()"
   ]
  },
  {
   "cell_type": "code",
   "execution_count": 103,
   "id": "dc3b788b",
   "metadata": {},
   "outputs": [],
   "source": [
    "# equ = cv.equalizeHist(img)"
   ]
  },
  {
   "cell_type": "code",
   "execution_count": 104,
   "id": "a14323fd",
   "metadata": {},
   "outputs": [],
   "source": [
    "# hist,bins = np.histogram(equ.flatten(),256,[0,256])\n",
    "# cdf = hist.cumsum()\n",
    "# cdf_normalized = cdf * float(hist.max()) / cdf.max()\n",
    "# plt.plot(cdf_normalized, color = 'b')\n",
    "# plt.hist(equ.flatten(),256,[0,256], color = 'r')\n",
    "# plt.xlim([0,256])\n",
    "# plt.legend(('cdf','histogram'), loc = 'upper left')\n",
    "# plt.show()"
   ]
  },
  {
   "cell_type": "code",
   "execution_count": 105,
   "id": "c5adf95f",
   "metadata": {},
   "outputs": [],
   "source": [
    "# plt.imshow(equ, cmap = \"gray\")\n",
    "# plt.show()"
   ]
  },
  {
   "cell_type": "code",
   "execution_count": null,
   "id": "5b9b38bd",
   "metadata": {},
   "outputs": [],
   "source": []
  },
  {
   "cell_type": "code",
   "execution_count": 108,
   "id": "502bbdea",
   "metadata": {},
   "outputs": [
    {
     "name": "stdout",
     "output_type": "stream",
     "text": [
      "Directory Existed Before!\n"
     ]
    }
   ],
   "source": [
    "folder_path = \"/home/abhinav/project/ocular\"\n",
    "folder_path = folder_path + \"/ocular-disease-recognition-odir5k\"\n",
    "grey_path = folder_path + \"/preprocessed_histeq_images\"\n",
    "try: \n",
    "    os.mkdir(grey_path)\n",
    "    print(\"Directory Created!\") \n",
    "except OSError as error: \n",
    "    print(\"Directory Existed Before!\") \n",
    "\n",
    "normal_path = folder_path + \"/preprocessed_images\"\n"
   ]
  },
  {
   "cell_type": "code",
   "execution_count": 109,
   "id": "d6fe231c",
   "metadata": {},
   "outputs": [],
   "source": [
    "def hist_eq(normal_path, grey_path):\n",
    "    img_list = os.listdir(normal_path)\n",
    "    for img_name in img_list:\n",
    "        path = normal_path + \"/\" + img_name\n",
    "        img = cv.imread(path)\n",
    "        img = cv.cvtColor(img, cv.COLOR_BGR2GRAY)\n",
    "        equ = cv.equalizeHist(img)\n",
    "        path = grey_path + \"/\" + img_name\n",
    "        cv.imwrite(path, equ)\n"
   ]
  },
  {
   "cell_type": "code",
   "execution_count": 110,
   "id": "2ce867b0",
   "metadata": {},
   "outputs": [],
   "source": [
    "hist_eq(normal_path, grey_path)"
   ]
  },
  {
   "cell_type": "code",
   "execution_count": null,
   "id": "11677e3b",
   "metadata": {},
   "outputs": [],
   "source": []
  }
 ],
 "metadata": {
  "kernelspec": {
   "display_name": "Python 3 (ipykernel)",
   "language": "python",
   "name": "python3"
  },
  "language_info": {
   "codemirror_mode": {
    "name": "ipython",
    "version": 3
   },
   "file_extension": ".py",
   "mimetype": "text/x-python",
   "name": "python",
   "nbconvert_exporter": "python",
   "pygments_lexer": "ipython3",
   "version": "3.9.16"
  }
 },
 "nbformat": 4,
 "nbformat_minor": 5
}
