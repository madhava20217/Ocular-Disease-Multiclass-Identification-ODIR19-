{
 "cells": [
  {
   "cell_type": "code",
   "execution_count": 15,
   "metadata": {},
   "outputs": [],
   "source": [
    "import torch, torchvision\n",
    "import torchinfo\n",
    "\n",
    "DEVICE = torch.device(\"cuda:0\") if torch.cuda.is_available() else \"cpu\""
   ]
  },
  {
   "cell_type": "code",
   "execution_count": 20,
   "metadata": {},
   "outputs": [],
   "source": [
    "model = torchvision.models.efficientnet_b3(parameters = {'weights': torchvision.models.EfficientNet_B3_Weights.DEFAULT}).to(DEVICE)"
   ]
  },
  {
   "cell_type": "code",
   "execution_count": 21,
   "metadata": {},
   "outputs": [
    {
     "data": {
      "text/plain": [
       "=========================================================================================================\n",
       "Layer (type:depth-idx)                                  Output Shape              Param #\n",
       "=========================================================================================================\n",
       "EfficientNet                                            [50, 1000]                --\n",
       "├─Sequential: 1-1                                       [50, 1536, 10, 10]        --\n",
       "│    └─Conv2dNormActivation: 2-1                        [50, 40, 150, 150]        --\n",
       "│    │    └─Conv2d: 3-1                                 [50, 40, 150, 150]        1,080\n",
       "│    │    └─BatchNorm2d: 3-2                            [50, 40, 150, 150]        80\n",
       "│    │    └─SiLU: 3-3                                   [50, 40, 150, 150]        --\n",
       "│    └─Sequential: 2-2                                  [50, 24, 150, 150]        --\n",
       "│    │    └─MBConv: 3-4                                 [50, 24, 150, 150]        2,298\n",
       "│    │    └─MBConv: 3-5                                 [50, 24, 150, 150]        1,206\n",
       "│    └─Sequential: 2-3                                  [50, 32, 75, 75]          --\n",
       "│    │    └─MBConv: 3-6                                 [50, 32, 75, 75]          11,878\n",
       "│    │    └─MBConv: 3-7                                 [50, 32, 75, 75]          18,120\n",
       "│    │    └─MBConv: 3-8                                 [50, 32, 75, 75]          18,120\n",
       "│    └─Sequential: 2-4                                  [50, 48, 38, 38]          --\n",
       "│    │    └─MBConv: 3-9                                 [50, 48, 38, 38]          24,296\n",
       "│    │    └─MBConv: 3-10                                [50, 48, 38, 38]          43,308\n",
       "│    │    └─MBConv: 3-11                                [50, 48, 38, 38]          43,308\n",
       "│    └─Sequential: 2-5                                  [50, 96, 19, 19]          --\n",
       "│    │    └─MBConv: 3-12                                [50, 96, 19, 19]          52,620\n",
       "│    │    └─MBConv: 3-13                                [50, 96, 19, 19]          146,520\n",
       "│    │    └─MBConv: 3-14                                [50, 96, 19, 19]          146,520\n",
       "│    │    └─MBConv: 3-15                                [50, 96, 19, 19]          146,520\n",
       "│    │    └─MBConv: 3-16                                [50, 96, 19, 19]          146,520\n",
       "│    └─Sequential: 2-6                                  [50, 136, 19, 19]         --\n",
       "│    │    └─MBConv: 3-17                                [50, 136, 19, 19]         178,856\n",
       "│    │    └─MBConv: 3-18                                [50, 136, 19, 19]         302,226\n",
       "│    │    └─MBConv: 3-19                                [50, 136, 19, 19]         302,226\n",
       "│    │    └─MBConv: 3-20                                [50, 136, 19, 19]         302,226\n",
       "│    │    └─MBConv: 3-21                                [50, 136, 19, 19]         302,226\n",
       "│    └─Sequential: 2-7                                  [50, 232, 10, 10]         --\n",
       "│    │    └─MBConv: 3-22                                [50, 232, 10, 10]         380,754\n",
       "│    │    └─MBConv: 3-23                                [50, 232, 10, 10]         849,642\n",
       "│    │    └─MBConv: 3-24                                [50, 232, 10, 10]         849,642\n",
       "│    │    └─MBConv: 3-25                                [50, 232, 10, 10]         849,642\n",
       "│    │    └─MBConv: 3-26                                [50, 232, 10, 10]         849,642\n",
       "│    │    └─MBConv: 3-27                                [50, 232, 10, 10]         849,642\n",
       "│    └─Sequential: 2-8                                  [50, 384, 10, 10]         --\n",
       "│    │    └─MBConv: 3-28                                [50, 384, 10, 10]         1,039,258\n",
       "│    │    └─MBConv: 3-29                                [50, 384, 10, 10]         2,244,960\n",
       "│    └─Conv2dNormActivation: 2-9                        [50, 1536, 10, 10]        --\n",
       "│    │    └─Conv2d: 3-30                                [50, 1536, 10, 10]        589,824\n",
       "│    │    └─BatchNorm2d: 3-31                           [50, 1536, 10, 10]        3,072\n",
       "│    │    └─SiLU: 3-32                                  [50, 1536, 10, 10]        --\n",
       "├─AdaptiveAvgPool2d: 1-2                                [50, 1536, 1, 1]          --\n",
       "├─Sequential: 1-3                                       [50, 1000]                --\n",
       "│    └─Dropout: 2-10                                    [50, 1536]                --\n",
       "│    └─Linear: 2-11                                     [50, 1000]                1,537,000\n",
       "=========================================================================================================\n",
       "Total params: 12,233,232\n",
       "Trainable params: 12,233,232\n",
       "Non-trainable params: 0\n",
       "Total mult-adds (G): 91.36\n",
       "=========================================================================================================\n",
       "Input size (MB): 53.64\n",
       "Forward/backward pass size (MB): 19056.60\n",
       "Params size (MB): 48.93\n",
       "Estimated Total Size (MB): 19159.18\n",
       "========================================================================================================="
      ]
     },
     "execution_count": 21,
     "metadata": {},
     "output_type": "execute_result"
    }
   ],
   "source": [
    "torchinfo.summary(model, (50, 3, 299, 299))"
   ]
  }
 ],
 "metadata": {
  "kernelspec": {
   "display_name": "Python 3.10.9 ('ml')",
   "language": "python",
   "name": "python3"
  },
  "language_info": {
   "codemirror_mode": {
    "name": "ipython",
    "version": 3
   },
   "file_extension": ".py",
   "mimetype": "text/x-python",
   "name": "python",
   "nbconvert_exporter": "python",
   "pygments_lexer": "ipython3",
   "version": "3.10.9"
  },
  "orig_nbformat": 4,
  "vscode": {
   "interpreter": {
    "hash": "c58e9361bde7ca617934da376e83056db506761bdc9593ca2087fabac973f609"
   }
  }
 },
 "nbformat": 4,
 "nbformat_minor": 2
}
